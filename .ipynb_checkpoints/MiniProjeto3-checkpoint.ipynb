{
 "cells": [
  {
   "cell_type": "markdown",
   "id": "a410e358",
   "metadata": {},
   "source": [
    "# Mini Projeto 3"
   ]
  },
  {
   "cell_type": "markdown",
   "id": "db1a15fb",
   "metadata": {},
   "source": [
    "## 1 - Carregando os Dados"
   ]
  },
  {
   "cell_type": "code",
   "execution_count": 1,
   "id": "01191b12",
   "metadata": {},
   "outputs": [],
   "source": [
    "# Imports\n",
    "import numpy as np\n",
    "import pandas as pd\n",
    "import seaborn as sns\n",
    "import matplotlib.pyplot as plt\n",
    "import matplotlib"
   ]
  },
  {
   "cell_type": "code",
   "execution_count": 2,
   "id": "5f5772ee",
   "metadata": {},
   "outputs": [],
   "source": [
    "# Carregando os dados\n",
    "dados_rh = pd.read_csv('dadosRH.csv')"
   ]
  },
  {
   "cell_type": "code",
   "execution_count": 3,
   "id": "34dad21c",
   "metadata": {},
   "outputs": [
    {
     "data": {
      "text/html": [
       "<div>\n",
       "<style scoped>\n",
       "    .dataframe tbody tr th:only-of-type {\n",
       "        vertical-align: middle;\n",
       "    }\n",
       "\n",
       "    .dataframe tbody tr th {\n",
       "        vertical-align: top;\n",
       "    }\n",
       "\n",
       "    .dataframe thead th {\n",
       "        text-align: right;\n",
       "    }\n",
       "</style>\n",
       "<table border=\"1\" class=\"dataframe\">\n",
       "  <thead>\n",
       "    <tr style=\"text-align: right;\">\n",
       "      <th></th>\n",
       "      <th>id_funcionario</th>\n",
       "      <th>departmento</th>\n",
       "      <th>regiao</th>\n",
       "      <th>educacao</th>\n",
       "      <th>genero</th>\n",
       "      <th>canal_recrutamento</th>\n",
       "      <th>numero_treinamentos</th>\n",
       "      <th>idade</th>\n",
       "      <th>aval_ano_anterior</th>\n",
       "      <th>tempo_servico</th>\n",
       "      <th>promovido</th>\n",
       "    </tr>\n",
       "  </thead>\n",
       "  <tbody>\n",
       "    <tr>\n",
       "      <th>0</th>\n",
       "      <td>65438</td>\n",
       "      <td>Marketing</td>\n",
       "      <td>Sudeste</td>\n",
       "      <td>Mestrado ou Doutorado</td>\n",
       "      <td>F</td>\n",
       "      <td>Outsourcing</td>\n",
       "      <td>1</td>\n",
       "      <td>35</td>\n",
       "      <td>5.0</td>\n",
       "      <td>8</td>\n",
       "      <td>0</td>\n",
       "    </tr>\n",
       "    <tr>\n",
       "      <th>1</th>\n",
       "      <td>65141</td>\n",
       "      <td>Logistica</td>\n",
       "      <td>Nordeste</td>\n",
       "      <td>Superior</td>\n",
       "      <td>M</td>\n",
       "      <td>Outro</td>\n",
       "      <td>1</td>\n",
       "      <td>30</td>\n",
       "      <td>5.0</td>\n",
       "      <td>4</td>\n",
       "      <td>0</td>\n",
       "    </tr>\n",
       "    <tr>\n",
       "      <th>2</th>\n",
       "      <td>7513</td>\n",
       "      <td>Marketing</td>\n",
       "      <td>Sudeste</td>\n",
       "      <td>Superior</td>\n",
       "      <td>M</td>\n",
       "      <td>Outsourcing</td>\n",
       "      <td>1</td>\n",
       "      <td>34</td>\n",
       "      <td>3.0</td>\n",
       "      <td>7</td>\n",
       "      <td>0</td>\n",
       "    </tr>\n",
       "    <tr>\n",
       "      <th>3</th>\n",
       "      <td>2542</td>\n",
       "      <td>Marketing</td>\n",
       "      <td>Norte</td>\n",
       "      <td>Superior</td>\n",
       "      <td>M</td>\n",
       "      <td>Outro</td>\n",
       "      <td>2</td>\n",
       "      <td>39</td>\n",
       "      <td>1.0</td>\n",
       "      <td>10</td>\n",
       "      <td>0</td>\n",
       "    </tr>\n",
       "    <tr>\n",
       "      <th>4</th>\n",
       "      <td>48945</td>\n",
       "      <td>Tecnologia</td>\n",
       "      <td>Nordeste</td>\n",
       "      <td>Superior</td>\n",
       "      <td>M</td>\n",
       "      <td>Outro</td>\n",
       "      <td>1</td>\n",
       "      <td>45</td>\n",
       "      <td>3.0</td>\n",
       "      <td>2</td>\n",
       "      <td>0</td>\n",
       "    </tr>\n",
       "  </tbody>\n",
       "</table>\n",
       "</div>"
      ],
      "text/plain": [
       "   id_funcionario departmento    regiao               educacao genero  \\\n",
       "0           65438   Marketing   Sudeste  Mestrado ou Doutorado      F   \n",
       "1           65141   Logistica  Nordeste               Superior      M   \n",
       "2            7513   Marketing   Sudeste               Superior      M   \n",
       "3            2542   Marketing     Norte               Superior      M   \n",
       "4           48945  Tecnologia  Nordeste               Superior      M   \n",
       "\n",
       "  canal_recrutamento  numero_treinamentos  idade  aval_ano_anterior  \\\n",
       "0        Outsourcing                    1     35                5.0   \n",
       "1              Outro                    1     30                5.0   \n",
       "2        Outsourcing                    1     34                3.0   \n",
       "3              Outro                    2     39                1.0   \n",
       "4              Outro                    1     45                3.0   \n",
       "\n",
       "   tempo_servico  promovido  \n",
       "0              8          0  \n",
       "1              4          0  \n",
       "2              7          0  \n",
       "3             10          0  \n",
       "4              2          0  "
      ]
     },
     "execution_count": 3,
     "metadata": {},
     "output_type": "execute_result"
    }
   ],
   "source": [
    "# Mostra cabeçalho + primeiras 4 colunas do dataset\n",
    "dados_rh.head()"
   ]
  },
  {
   "cell_type": "code",
   "execution_count": 5,
   "id": "2e64c488",
   "metadata": {},
   "outputs": [
    {
     "data": {
      "text/plain": [
       "(54808, 11)"
      ]
     },
     "execution_count": 5,
     "metadata": {},
     "output_type": "execute_result"
    }
   ],
   "source": [
    "# Mostra número de linhas e colunas (l, C)\n",
    "dados_rh.shape"
   ]
  },
  {
   "cell_type": "markdown",
   "id": "38139505",
   "metadata": {},
   "source": [
    "## 2 - Limpeza e Transformação dos Dados"
   ]
  },
  {
   "cell_type": "code",
   "execution_count": 6,
   "id": "5c8b1836",
   "metadata": {},
   "outputs": [
    {
     "data": {
      "text/plain": [
       "id_funcionario            0\n",
       "departmento               0\n",
       "regiao                    0\n",
       "educacao               2409\n",
       "genero                    0\n",
       "canal_recrutamento        0\n",
       "numero_treinamentos       0\n",
       "idade                     0\n",
       "aval_ano_anterior      4124\n",
       "tempo_servico             0\n",
       "promovido                 0\n",
       "dtype: int64"
      ]
     },
     "execution_count": 6,
     "metadata": {},
     "output_type": "execute_result"
    }
   ],
   "source": [
    "# Contagem de valores nulos para cada coluna\n",
    "dados_rh.isnull().sum()"
   ]
  },
  {
   "cell_type": "code",
   "execution_count": 7,
   "id": "67383b2a",
   "metadata": {},
   "outputs": [
    {
     "data": {
      "text/html": [
       "<div>\n",
       "<style scoped>\n",
       "    .dataframe tbody tr th:only-of-type {\n",
       "        vertical-align: middle;\n",
       "    }\n",
       "\n",
       "    .dataframe tbody tr th {\n",
       "        vertical-align: top;\n",
       "    }\n",
       "\n",
       "    .dataframe thead th {\n",
       "        text-align: right;\n",
       "    }\n",
       "</style>\n",
       "<table border=\"1\" class=\"dataframe\">\n",
       "  <thead>\n",
       "    <tr style=\"text-align: right;\">\n",
       "      <th></th>\n",
       "      <th>id_funcionario</th>\n",
       "      <th>departmento</th>\n",
       "      <th>regiao</th>\n",
       "      <th>genero</th>\n",
       "      <th>canal_recrutamento</th>\n",
       "      <th>numero_treinamentos</th>\n",
       "      <th>idade</th>\n",
       "      <th>aval_ano_anterior</th>\n",
       "      <th>tempo_servico</th>\n",
       "      <th>promovido</th>\n",
       "    </tr>\n",
       "    <tr>\n",
       "      <th>educacao</th>\n",
       "      <th></th>\n",
       "      <th></th>\n",
       "      <th></th>\n",
       "      <th></th>\n",
       "      <th></th>\n",
       "      <th></th>\n",
       "      <th></th>\n",
       "      <th></th>\n",
       "      <th></th>\n",
       "      <th></th>\n",
       "    </tr>\n",
       "  </thead>\n",
       "  <tbody>\n",
       "    <tr>\n",
       "      <th>Ensino Medio</th>\n",
       "      <td>805</td>\n",
       "      <td>805</td>\n",
       "      <td>805</td>\n",
       "      <td>805</td>\n",
       "      <td>805</td>\n",
       "      <td>805</td>\n",
       "      <td>805</td>\n",
       "      <td>458</td>\n",
       "      <td>805</td>\n",
       "      <td>805</td>\n",
       "    </tr>\n",
       "    <tr>\n",
       "      <th>Mestrado ou Doutorado</th>\n",
       "      <td>14925</td>\n",
       "      <td>14925</td>\n",
       "      <td>14925</td>\n",
       "      <td>14925</td>\n",
       "      <td>14925</td>\n",
       "      <td>14925</td>\n",
       "      <td>14925</td>\n",
       "      <td>14798</td>\n",
       "      <td>14925</td>\n",
       "      <td>14925</td>\n",
       "    </tr>\n",
       "    <tr>\n",
       "      <th>Superior</th>\n",
       "      <td>36669</td>\n",
       "      <td>36669</td>\n",
       "      <td>36669</td>\n",
       "      <td>36669</td>\n",
       "      <td>36669</td>\n",
       "      <td>36669</td>\n",
       "      <td>36669</td>\n",
       "      <td>33404</td>\n",
       "      <td>36669</td>\n",
       "      <td>36669</td>\n",
       "    </tr>\n",
       "  </tbody>\n",
       "</table>\n",
       "</div>"
      ],
      "text/plain": [
       "                       id_funcionario  departmento  regiao  genero  \\\n",
       "educacao                                                             \n",
       "Ensino Medio                      805          805     805     805   \n",
       "Mestrado ou Doutorado           14925        14925   14925   14925   \n",
       "Superior                        36669        36669   36669   36669   \n",
       "\n",
       "                       canal_recrutamento  numero_treinamentos  idade  \\\n",
       "educacao                                                                \n",
       "Ensino Medio                          805                  805    805   \n",
       "Mestrado ou Doutorado               14925                14925  14925   \n",
       "Superior                            36669                36669  36669   \n",
       "\n",
       "                       aval_ano_anterior  tempo_servico  promovido  \n",
       "educacao                                                            \n",
       "Ensino Medio                         458            805        805  \n",
       "Mestrado ou Doutorado              14798          14925      14925  \n",
       "Superior                           33404          36669      36669  "
      ]
     },
     "execution_count": 7,
     "metadata": {},
     "output_type": "execute_result"
    }
   ],
   "source": [
    "# Agrupamento dos registros por educação e contagem para cada coluna\n",
    "# OBS: não considera os valores ausentes\n",
    "dados_rh.groupby(['educacao']).count()"
   ]
  },
  {
   "cell_type": "code",
   "execution_count": 23,
   "id": "6062d68c",
   "metadata": {},
   "outputs": [
    {
     "data": {
      "text/plain": [
       "<AxesSubplot:xlabel='educacao', ylabel='count'>"
      ]
     },
     "execution_count": 23,
     "metadata": {},
     "output_type": "execute_result"
    },
    {
     "data": {
      "image/png": "[encoded data removed]",
      "text/plain": [
       "<Figure size 432x288 with 1 Axes>"
      ]
     },
     "metadata": {
      "needs_background": "light"
     },
     "output_type": "display_data"
    }
   ],
   "source": [
    "# Plota um gráfico com a contagem de cada categoria de educação\n",
    "sns.countplot(x = \"educacao\", data = dados_rh)"
   ]
  },
  {
   "cell_type": "code",
   "execution_count": 9,
   "id": "5ef868ae",
   "metadata": {},
   "outputs": [
    {
     "data": {
      "text/html": [
       "<div>\n",
       "<style scoped>\n",
       "    .dataframe tbody tr th:only-of-type {\n",
       "        vertical-align: middle;\n",
       "    }\n",
       "\n",
       "    .dataframe tbody tr th {\n",
       "        vertical-align: top;\n",
       "    }\n",
       "\n",
       "    .dataframe thead th {\n",
       "        text-align: right;\n",
       "    }\n",
       "</style>\n",
       "<table border=\"1\" class=\"dataframe\">\n",
       "  <thead>\n",
       "    <tr style=\"text-align: right;\">\n",
       "      <th></th>\n",
       "      <th>id_funcionario</th>\n",
       "      <th>departmento</th>\n",
       "      <th>regiao</th>\n",
       "      <th>educacao</th>\n",
       "      <th>genero</th>\n",
       "      <th>canal_recrutamento</th>\n",
       "      <th>numero_treinamentos</th>\n",
       "      <th>idade</th>\n",
       "      <th>tempo_servico</th>\n",
       "      <th>promovido</th>\n",
       "    </tr>\n",
       "    <tr>\n",
       "      <th>aval_ano_anterior</th>\n",
       "      <th></th>\n",
       "      <th></th>\n",
       "      <th></th>\n",
       "      <th></th>\n",
       "      <th></th>\n",
       "      <th></th>\n",
       "      <th></th>\n",
       "      <th></th>\n",
       "      <th></th>\n",
       "      <th></th>\n",
       "    </tr>\n",
       "  </thead>\n",
       "  <tbody>\n",
       "    <tr>\n",
       "      <th>1.0</th>\n",
       "      <td>6223</td>\n",
       "      <td>6223</td>\n",
       "      <td>6223</td>\n",
       "      <td>5887</td>\n",
       "      <td>6223</td>\n",
       "      <td>6223</td>\n",
       "      <td>6223</td>\n",
       "      <td>6223</td>\n",
       "      <td>6223</td>\n",
       "      <td>6223</td>\n",
       "    </tr>\n",
       "    <tr>\n",
       "      <th>2.0</th>\n",
       "      <td>4225</td>\n",
       "      <td>4225</td>\n",
       "      <td>4225</td>\n",
       "      <td>4035</td>\n",
       "      <td>4225</td>\n",
       "      <td>4225</td>\n",
       "      <td>4225</td>\n",
       "      <td>4225</td>\n",
       "      <td>4225</td>\n",
       "      <td>4225</td>\n",
       "    </tr>\n",
       "    <tr>\n",
       "      <th>3.0</th>\n",
       "      <td>18618</td>\n",
       "      <td>18618</td>\n",
       "      <td>18618</td>\n",
       "      <td>17867</td>\n",
       "      <td>18618</td>\n",
       "      <td>18618</td>\n",
       "      <td>18618</td>\n",
       "      <td>18618</td>\n",
       "      <td>18618</td>\n",
       "      <td>18618</td>\n",
       "    </tr>\n",
       "    <tr>\n",
       "      <th>4.0</th>\n",
       "      <td>9877</td>\n",
       "      <td>9877</td>\n",
       "      <td>9877</td>\n",
       "      <td>9509</td>\n",
       "      <td>9877</td>\n",
       "      <td>9877</td>\n",
       "      <td>9877</td>\n",
       "      <td>9877</td>\n",
       "      <td>9877</td>\n",
       "      <td>9877</td>\n",
       "    </tr>\n",
       "    <tr>\n",
       "      <th>5.0</th>\n",
       "      <td>11741</td>\n",
       "      <td>11741</td>\n",
       "      <td>11741</td>\n",
       "      <td>11362</td>\n",
       "      <td>11741</td>\n",
       "      <td>11741</td>\n",
       "      <td>11741</td>\n",
       "      <td>11741</td>\n",
       "      <td>11741</td>\n",
       "      <td>11741</td>\n",
       "    </tr>\n",
       "  </tbody>\n",
       "</table>\n",
       "</div>"
      ],
      "text/plain": [
       "                   id_funcionario  departmento  regiao  educacao  genero  \\\n",
       "aval_ano_anterior                                                          \n",
       "1.0                          6223         6223    6223      5887    6223   \n",
       "2.0                          4225         4225    4225      4035    4225   \n",
       "3.0                         18618        18618   18618     17867   18618   \n",
       "4.0                          9877         9877    9877      9509    9877   \n",
       "5.0                         11741        11741   11741     11362   11741   \n",
       "\n",
       "                   canal_recrutamento  numero_treinamentos  idade  \\\n",
       "aval_ano_anterior                                                   \n",
       "1.0                              6223                 6223   6223   \n",
       "2.0                              4225                 4225   4225   \n",
       "3.0                             18618                18618  18618   \n",
       "4.0                              9877                 9877   9877   \n",
       "5.0                             11741                11741  11741   \n",
       "\n",
       "                   tempo_servico  promovido  \n",
       "aval_ano_anterior                            \n",
       "1.0                         6223       6223  \n",
       "2.0                         4225       4225  \n",
       "3.0                        18618      18618  \n",
       "4.0                         9877       9877  \n",
       "5.0                        11741      11741  "
      ]
     },
     "execution_count": 9,
     "metadata": {},
     "output_type": "execute_result"
    }
   ],
   "source": [
    "# Agrupamento dos registros por avaliação e contagem para cada coluna\n",
    "dados_rh.groupby(['aval_ano_anterior']).count()"
   ]
  },
  {
   "cell_type": "code",
   "execution_count": 22,
   "id": "6999f83c",
   "metadata": {},
   "outputs": [
    {
     "data": {
      "text/plain": [
       "<AxesSubplot:xlabel='aval_ano_anterior', ylabel='count'>"
      ]
     },
     "execution_count": 22,
     "metadata": {},
     "output_type": "execute_result"
    },
    {
     "data": {
      "image/png": "[encoded data removed]",
      "text/plain": [
       "<Figure size 432x288 with 1 Axes>"
      ]
     },
     "metadata": {
      "needs_background": "light"
     },
     "output_type": "display_data"
    }
   ],
   "source": [
    "# Plota um gráfico com a contagem de cada categoria de educação\n",
    "sns.countplot(x = 'aval_ano_anterior', data = dados_rh)"
   ]
  },
  {
   "cell_type": "markdown",
   "id": "81281abc",
   "metadata": {},
   "source": [
    "### Preenchendo valores ausentes com imputação"
   ]
  },
  {
   "cell_type": "code",
   "execution_count": 11,
   "id": "6442cc6c",
   "metadata": {},
   "outputs": [],
   "source": [
    "# 1 - Fillna substituindo valores ausentes pela moda:\n",
    "dados_rh['educacao'].fillna(dados_rh['educacao'].mode()[0], inplace = True)"
   ]
  },
  {
   "cell_type": "code",
   "execution_count": 12,
   "id": "b4d53353",
   "metadata": {},
   "outputs": [],
   "source": [
    "# 2 - Fillna substituindo valores ausentes pela mediana:\n",
    "dados_rh['aval_ano_anterior'].fillna(dados_rh['aval_ano_anterior'].median(), inplace = True)"
   ]
  },
  {
   "cell_type": "code",
   "execution_count": 13,
   "id": "30053148",
   "metadata": {},
   "outputs": [
    {
     "data": {
      "text/plain": [
       "id_funcionario         0\n",
       "departmento            0\n",
       "regiao                 0\n",
       "educacao               0\n",
       "genero                 0\n",
       "canal_recrutamento     0\n",
       "numero_treinamentos    0\n",
       "idade                  0\n",
       "aval_ano_anterior      0\n",
       "tempo_servico          0\n",
       "promovido              0\n",
       "dtype: int64"
      ]
     },
     "execution_count": 13,
     "metadata": {},
     "output_type": "execute_result"
    }
   ],
   "source": [
    "# Verificando número atualizado de valores nulos:\n",
    "dados_rh.isnull().sum()"
   ]
  },
  {
   "cell_type": "code",
   "execution_count": 14,
   "id": "2832b686",
   "metadata": {},
   "outputs": [
    {
     "data": {
      "text/html": [
       "<div>\n",
       "<style scoped>\n",
       "    .dataframe tbody tr th:only-of-type {\n",
       "        vertical-align: middle;\n",
       "    }\n",
       "\n",
       "    .dataframe tbody tr th {\n",
       "        vertical-align: top;\n",
       "    }\n",
       "\n",
       "    .dataframe thead th {\n",
       "        text-align: right;\n",
       "    }\n",
       "</style>\n",
       "<table border=\"1\" class=\"dataframe\">\n",
       "  <thead>\n",
       "    <tr style=\"text-align: right;\">\n",
       "      <th></th>\n",
       "      <th>id_funcionario</th>\n",
       "      <th>departmento</th>\n",
       "      <th>regiao</th>\n",
       "      <th>genero</th>\n",
       "      <th>canal_recrutamento</th>\n",
       "      <th>numero_treinamentos</th>\n",
       "      <th>idade</th>\n",
       "      <th>aval_ano_anterior</th>\n",
       "      <th>tempo_servico</th>\n",
       "      <th>promovido</th>\n",
       "    </tr>\n",
       "    <tr>\n",
       "      <th>educacao</th>\n",
       "      <th></th>\n",
       "      <th></th>\n",
       "      <th></th>\n",
       "      <th></th>\n",
       "      <th></th>\n",
       "      <th></th>\n",
       "      <th></th>\n",
       "      <th></th>\n",
       "      <th></th>\n",
       "      <th></th>\n",
       "    </tr>\n",
       "  </thead>\n",
       "  <tbody>\n",
       "    <tr>\n",
       "      <th>Ensino Medio</th>\n",
       "      <td>805</td>\n",
       "      <td>805</td>\n",
       "      <td>805</td>\n",
       "      <td>805</td>\n",
       "      <td>805</td>\n",
       "      <td>805</td>\n",
       "      <td>805</td>\n",
       "      <td>805</td>\n",
       "      <td>805</td>\n",
       "      <td>805</td>\n",
       "    </tr>\n",
       "    <tr>\n",
       "      <th>Mestrado ou Doutorado</th>\n",
       "      <td>14925</td>\n",
       "      <td>14925</td>\n",
       "      <td>14925</td>\n",
       "      <td>14925</td>\n",
       "      <td>14925</td>\n",
       "      <td>14925</td>\n",
       "      <td>14925</td>\n",
       "      <td>14925</td>\n",
       "      <td>14925</td>\n",
       "      <td>14925</td>\n",
       "    </tr>\n",
       "    <tr>\n",
       "      <th>Superior</th>\n",
       "      <td>39078</td>\n",
       "      <td>39078</td>\n",
       "      <td>39078</td>\n",
       "      <td>39078</td>\n",
       "      <td>39078</td>\n",
       "      <td>39078</td>\n",
       "      <td>39078</td>\n",
       "      <td>39078</td>\n",
       "      <td>39078</td>\n",
       "      <td>39078</td>\n",
       "    </tr>\n",
       "  </tbody>\n",
       "</table>\n",
       "</div>"
      ],
      "text/plain": [
       "                       id_funcionario  departmento  regiao  genero  \\\n",
       "educacao                                                             \n",
       "Ensino Medio                      805          805     805     805   \n",
       "Mestrado ou Doutorado           14925        14925   14925   14925   \n",
       "Superior                        39078        39078   39078   39078   \n",
       "\n",
       "                       canal_recrutamento  numero_treinamentos  idade  \\\n",
       "educacao                                                                \n",
       "Ensino Medio                          805                  805    805   \n",
       "Mestrado ou Doutorado               14925                14925  14925   \n",
       "Superior                            39078                39078  39078   \n",
       "\n",
       "                       aval_ano_anterior  tempo_servico  promovido  \n",
       "educacao                                                            \n",
       "Ensino Medio                         805            805        805  \n",
       "Mestrado ou Doutorado              14925          14925      14925  \n",
       "Superior                           39078          39078      39078  "
      ]
     },
     "execution_count": 14,
     "metadata": {},
     "output_type": "execute_result"
    }
   ],
   "source": [
    "dados_rh.groupby(['educacao']).count()"
   ]
  },
  {
   "cell_type": "code",
   "execution_count": 15,
   "id": "f113df96",
   "metadata": {},
   "outputs": [
    {
     "data": {
      "text/html": [
       "<div>\n",
       "<style scoped>\n",
       "    .dataframe tbody tr th:only-of-type {\n",
       "        vertical-align: middle;\n",
       "    }\n",
       "\n",
       "    .dataframe tbody tr th {\n",
       "        vertical-align: top;\n",
       "    }\n",
       "\n",
       "    .dataframe thead th {\n",
       "        text-align: right;\n",
       "    }\n",
       "</style>\n",
       "<table border=\"1\" class=\"dataframe\">\n",
       "  <thead>\n",
       "    <tr style=\"text-align: right;\">\n",
       "      <th></th>\n",
       "      <th>id_funcionario</th>\n",
       "      <th>departmento</th>\n",
       "      <th>regiao</th>\n",
       "      <th>educacao</th>\n",
       "      <th>genero</th>\n",
       "      <th>canal_recrutamento</th>\n",
       "      <th>numero_treinamentos</th>\n",
       "      <th>idade</th>\n",
       "      <th>tempo_servico</th>\n",
       "      <th>promovido</th>\n",
       "    </tr>\n",
       "    <tr>\n",
       "      <th>aval_ano_anterior</th>\n",
       "      <th></th>\n",
       "      <th></th>\n",
       "      <th></th>\n",
       "      <th></th>\n",
       "      <th></th>\n",
       "      <th></th>\n",
       "      <th></th>\n",
       "      <th></th>\n",
       "      <th></th>\n",
       "      <th></th>\n",
       "    </tr>\n",
       "  </thead>\n",
       "  <tbody>\n",
       "    <tr>\n",
       "      <th>1.0</th>\n",
       "      <td>6223</td>\n",
       "      <td>6223</td>\n",
       "      <td>6223</td>\n",
       "      <td>6223</td>\n",
       "      <td>6223</td>\n",
       "      <td>6223</td>\n",
       "      <td>6223</td>\n",
       "      <td>6223</td>\n",
       "      <td>6223</td>\n",
       "      <td>6223</td>\n",
       "    </tr>\n",
       "    <tr>\n",
       "      <th>2.0</th>\n",
       "      <td>4225</td>\n",
       "      <td>4225</td>\n",
       "      <td>4225</td>\n",
       "      <td>4225</td>\n",
       "      <td>4225</td>\n",
       "      <td>4225</td>\n",
       "      <td>4225</td>\n",
       "      <td>4225</td>\n",
       "      <td>4225</td>\n",
       "      <td>4225</td>\n",
       "    </tr>\n",
       "    <tr>\n",
       "      <th>3.0</th>\n",
       "      <td>22742</td>\n",
       "      <td>22742</td>\n",
       "      <td>22742</td>\n",
       "      <td>22742</td>\n",
       "      <td>22742</td>\n",
       "      <td>22742</td>\n",
       "      <td>22742</td>\n",
       "      <td>22742</td>\n",
       "      <td>22742</td>\n",
       "      <td>22742</td>\n",
       "    </tr>\n",
       "    <tr>\n",
       "      <th>4.0</th>\n",
       "      <td>9877</td>\n",
       "      <td>9877</td>\n",
       "      <td>9877</td>\n",
       "      <td>9877</td>\n",
       "      <td>9877</td>\n",
       "      <td>9877</td>\n",
       "      <td>9877</td>\n",
       "      <td>9877</td>\n",
       "      <td>9877</td>\n",
       "      <td>9877</td>\n",
       "    </tr>\n",
       "    <tr>\n",
       "      <th>5.0</th>\n",
       "      <td>11741</td>\n",
       "      <td>11741</td>\n",
       "      <td>11741</td>\n",
       "      <td>11741</td>\n",
       "      <td>11741</td>\n",
       "      <td>11741</td>\n",
       "      <td>11741</td>\n",
       "      <td>11741</td>\n",
       "      <td>11741</td>\n",
       "      <td>11741</td>\n",
       "    </tr>\n",
       "  </tbody>\n",
       "</table>\n",
       "</div>"
      ],
      "text/plain": [
       "                   id_funcionario  departmento  regiao  educacao  genero  \\\n",
       "aval_ano_anterior                                                          \n",
       "1.0                          6223         6223    6223      6223    6223   \n",
       "2.0                          4225         4225    4225      4225    4225   \n",
       "3.0                         22742        22742   22742     22742   22742   \n",
       "4.0                          9877         9877    9877      9877    9877   \n",
       "5.0                         11741        11741   11741     11741   11741   \n",
       "\n",
       "                   canal_recrutamento  numero_treinamentos  idade  \\\n",
       "aval_ano_anterior                                                   \n",
       "1.0                              6223                 6223   6223   \n",
       "2.0                              4225                 4225   4225   \n",
       "3.0                             22742                22742  22742   \n",
       "4.0                              9877                 9877   9877   \n",
       "5.0                             11741                11741  11741   \n",
       "\n",
       "                   tempo_servico  promovido  \n",
       "aval_ano_anterior                            \n",
       "1.0                         6223       6223  \n",
       "2.0                         4225       4225  \n",
       "3.0                        22742      22742  \n",
       "4.0                         9877       9877  \n",
       "5.0                        11741      11741  "
      ]
     },
     "execution_count": 15,
     "metadata": {},
     "output_type": "execute_result"
    }
   ],
   "source": [
    "dados_rh.groupby(['aval_ano_anterior']).count()"
   ]
  },
  {
   "cell_type": "markdown",
   "id": "a1bfd59a",
   "metadata": {},
   "source": [
    "### Balanceamento de classe"
   ]
  },
  {
   "cell_type": "code",
   "execution_count": 18,
   "id": "94176820",
   "metadata": {},
   "outputs": [
    {
     "data": {
      "text/html": [
       "<div>\n",
       "<style scoped>\n",
       "    .dataframe tbody tr th:only-of-type {\n",
       "        vertical-align: middle;\n",
       "    }\n",
       "\n",
       "    .dataframe tbody tr th {\n",
       "        vertical-align: top;\n",
       "    }\n",
       "\n",
       "    .dataframe thead th {\n",
       "        text-align: right;\n",
       "    }\n",
       "</style>\n",
       "<table border=\"1\" class=\"dataframe\">\n",
       "  <thead>\n",
       "    <tr style=\"text-align: right;\">\n",
       "      <th></th>\n",
       "      <th>id_funcionario</th>\n",
       "      <th>departmento</th>\n",
       "      <th>regiao</th>\n",
       "      <th>educacao</th>\n",
       "      <th>genero</th>\n",
       "      <th>canal_recrutamento</th>\n",
       "      <th>numero_treinamentos</th>\n",
       "      <th>idade</th>\n",
       "      <th>aval_ano_anterior</th>\n",
       "      <th>tempo_servico</th>\n",
       "    </tr>\n",
       "    <tr>\n",
       "      <th>promovido</th>\n",
       "      <th></th>\n",
       "      <th></th>\n",
       "      <th></th>\n",
       "      <th></th>\n",
       "      <th></th>\n",
       "      <th></th>\n",
       "      <th></th>\n",
       "      <th></th>\n",
       "      <th></th>\n",
       "      <th></th>\n",
       "    </tr>\n",
       "  </thead>\n",
       "  <tbody>\n",
       "    <tr>\n",
       "      <th>0</th>\n",
       "      <td>50140</td>\n",
       "      <td>50140</td>\n",
       "      <td>50140</td>\n",
       "      <td>50140</td>\n",
       "      <td>50140</td>\n",
       "      <td>50140</td>\n",
       "      <td>50140</td>\n",
       "      <td>50140</td>\n",
       "      <td>50140</td>\n",
       "      <td>50140</td>\n",
       "    </tr>\n",
       "    <tr>\n",
       "      <th>1</th>\n",
       "      <td>4668</td>\n",
       "      <td>4668</td>\n",
       "      <td>4668</td>\n",
       "      <td>4668</td>\n",
       "      <td>4668</td>\n",
       "      <td>4668</td>\n",
       "      <td>4668</td>\n",
       "      <td>4668</td>\n",
       "      <td>4668</td>\n",
       "      <td>4668</td>\n",
       "    </tr>\n",
       "  </tbody>\n",
       "</table>\n",
       "</div>"
      ],
      "text/plain": [
       "           id_funcionario  departmento  regiao  educacao  genero  \\\n",
       "promovido                                                          \n",
       "0                   50140        50140   50140     50140   50140   \n",
       "1                    4668         4668    4668      4668    4668   \n",
       "\n",
       "           canal_recrutamento  numero_treinamentos  idade  aval_ano_anterior  \\\n",
       "promovido                                                                      \n",
       "0                       50140                50140  50140              50140   \n",
       "1                        4668                 4668   4668               4668   \n",
       "\n",
       "           tempo_servico  \n",
       "promovido                 \n",
       "0                  50140  \n",
       "1                   4668  "
      ]
     },
     "execution_count": 18,
     "metadata": {},
     "output_type": "execute_result"
    }
   ],
   "source": [
    "# Verificando o balanceamento para a categoria \"promovido\":\n",
    "dados_rh.groupby(['promovido']).count()"
   ]
  },
  {
   "cell_type": "code",
   "execution_count": 21,
   "id": "c10beccd",
   "metadata": {},
   "outputs": [
    {
     "data": {
      "text/plain": [
       "<AxesSubplot:xlabel='promovido', ylabel='count'>"
      ]
     },
     "execution_count": 21,
     "metadata": {},
     "output_type": "execute_result"
    },
    {
     "data": {
      "image/png": "[encoded data removed]",
      "text/plain": [
       "<Figure size 432x288 with 1 Axes>"
      ]
     },
     "metadata": {
      "needs_background": "light"
     },
     "output_type": "display_data"
    }
   ],
   "source": [
    "# De fato, muito mais pessoas são promovidas do que não. Os dados estão coerentes.\n",
    "# Porém , para um modelo de ML, os dados não podem ser levados dessa forma, pois há\n",
    "# muito mais exemplos de uma categoria do que da outra\n",
    "sns.countplot(x = \"promovido\", data = dados_rh)"
   ]
  },
  {
   "cell_type": "code",
   "execution_count": 24,
   "id": "6afbafb4",
   "metadata": {},
   "outputs": [],
   "source": [
    "# Técnica de upsample (reamostragem) para balanceamento de classe:\n",
    "df_classe_majoritaria = dados_rh[dados_rh.promovido == 0]\n",
    "df_classe_minoritaria = dados_rh[dados_rh.promovido == 1]"
   ]
  },
  {
   "cell_type": "code",
   "execution_count": 25,
   "id": "2d7f1b18",
   "metadata": {},
   "outputs": [
    {
     "data": {
      "text/plain": [
       "(50140, 11)"
      ]
     },
     "execution_count": 25,
     "metadata": {},
     "output_type": "execute_result"
    }
   ],
   "source": [
    "df_classe_majoritaria.shape"
   ]
  },
  {
   "cell_type": "code",
   "execution_count": 27,
   "id": "3d313d7c",
   "metadata": {},
   "outputs": [
    {
     "data": {
      "text/plain": [
       "(4668, 11)"
      ]
     },
     "execution_count": 27,
     "metadata": {},
     "output_type": "execute_result"
    }
   ],
   "source": [
    "df_classe_minoritaria.shape"
   ]
  },
  {
   "cell_type": "code",
   "execution_count": 28,
   "id": "5a09bca1",
   "metadata": {},
   "outputs": [],
   "source": [
    "# Usando função resample do pacote scikit learn para aumentar os registros da classe minoritária:\n",
    "from sklearn.utils import resample\n",
    "df_classe_minoritaria_upsampled = resample(df_classe_minoritaria, replace = True, n_samples = 50140, random_state = 150)"
   ]
  },
  {
   "cell_type": "code",
   "execution_count": 29,
   "id": "8ff3ac5e",
   "metadata": {},
   "outputs": [],
   "source": [
    "# Concatenando novo conjunto de dados ao dataset:\n",
    "dados_rh_balanceados = pd.concat([df_classe_majoritaria, df_classe_minoritaria_upsampled])"
   ]
  },
  {
   "cell_type": "code",
   "execution_count": 30,
   "id": "c5188639",
   "metadata": {},
   "outputs": [
    {
     "data": {
      "text/plain": [
       "0    50140\n",
       "1    50140\n",
       "Name: promovido, dtype: int64"
      ]
     },
     "execution_count": 30,
     "metadata": {},
     "output_type": "execute_result"
    }
   ],
   "source": [
    "# Contagem atualizada da categoria \"promovido\":\n",
    "dados_rh_balanceados.promovido.value_counts()"
   ]
  },
  {
   "cell_type": "code",
   "execution_count": 31,
   "id": "1c971ee7",
   "metadata": {},
   "outputs": [
    {
     "name": "stdout",
     "output_type": "stream",
     "text": [
      "<class 'pandas.core.frame.DataFrame'>\n",
      "Int64Index: 100280 entries, 0 to 5869\n",
      "Data columns (total 11 columns):\n",
      " #   Column               Non-Null Count   Dtype  \n",
      "---  ------               --------------   -----  \n",
      " 0   id_funcionario       100280 non-null  int64  \n",
      " 1   departmento          100280 non-null  object \n",
      " 2   regiao               100280 non-null  object \n",
      " 3   educacao             100280 non-null  object \n",
      " 4   genero               100280 non-null  object \n",
      " 5   canal_recrutamento   100280 non-null  object \n",
      " 6   numero_treinamentos  100280 non-null  int64  \n",
      " 7   idade                100280 non-null  int64  \n",
      " 8   aval_ano_anterior    100280 non-null  float64\n",
      " 9   tempo_servico        100280 non-null  int64  \n",
      " 10  promovido            100280 non-null  int64  \n",
      "dtypes: float64(1), int64(5), object(5)\n",
      "memory usage: 9.2+ MB\n"
     ]
    }
   ],
   "source": [
    "# Perceba que agora o número total de resgistros é igual a 2 x 50140 = 100280:\n",
    "dados_rh_balanceados.info()"
   ]
  },
  {
   "cell_type": "code",
   "execution_count": 33,
   "id": "237b3b75",
   "metadata": {},
   "outputs": [
    {
     "data": {
      "text/plain": [
       "<AxesSubplot:xlabel='promovido', ylabel='count'>"
      ]
     },
     "execution_count": 33,
     "metadata": {},
     "output_type": "execute_result"
    },
    {
     "data": {
      "image/png": "[encoded data removed]",
      "text/plain": [
       "<Figure size 432x288 with 1 Axes>"
      ]
     },
     "metadata": {
      "needs_background": "light"
     },
     "output_type": "display_data"
    }
   ],
   "source": [
    "# Novo countplot com dados atualizados:\n",
    "sns.countplot(x = \"promovido\", data = dados_rh_balanceados)"
   ]
  },
  {
   "cell_type": "code",
   "execution_count": 34,
   "id": "73574075",
   "metadata": {},
   "outputs": [],
   "source": [
    "# Salvando os dados atualizados:\n",
    "dados_rh_balanceados.to_csv('dadosRH_modificado.csv', encoding = 'utf-8', index = False)"
   ]
  },
  {
   "cell_type": "code",
   "execution_count": 35,
   "id": "eb948e14",
   "metadata": {},
   "outputs": [
    {
     "data": {
      "text/html": [
       "<div>\n",
       "<style scoped>\n",
       "    .dataframe tbody tr th:only-of-type {\n",
       "        vertical-align: middle;\n",
       "    }\n",
       "\n",
       "    .dataframe tbody tr th {\n",
       "        vertical-align: top;\n",
       "    }\n",
       "\n",
       "    .dataframe thead th {\n",
       "        text-align: right;\n",
       "    }\n",
       "</style>\n",
       "<table border=\"1\" class=\"dataframe\">\n",
       "  <thead>\n",
       "    <tr style=\"text-align: right;\">\n",
       "      <th></th>\n",
       "      <th>id_funcionario</th>\n",
       "      <th>departmento</th>\n",
       "      <th>regiao</th>\n",
       "      <th>educacao</th>\n",
       "      <th>genero</th>\n",
       "      <th>canal_recrutamento</th>\n",
       "      <th>numero_treinamentos</th>\n",
       "      <th>idade</th>\n",
       "      <th>aval_ano_anterior</th>\n",
       "      <th>tempo_servico</th>\n",
       "      <th>promovido</th>\n",
       "    </tr>\n",
       "  </thead>\n",
       "  <tbody>\n",
       "    <tr>\n",
       "      <th>0</th>\n",
       "      <td>65438</td>\n",
       "      <td>Marketing</td>\n",
       "      <td>Sudeste</td>\n",
       "      <td>Mestrado ou Doutorado</td>\n",
       "      <td>F</td>\n",
       "      <td>Outsourcing</td>\n",
       "      <td>1</td>\n",
       "      <td>35</td>\n",
       "      <td>5.0</td>\n",
       "      <td>8</td>\n",
       "      <td>0</td>\n",
       "    </tr>\n",
       "    <tr>\n",
       "      <th>1</th>\n",
       "      <td>65141</td>\n",
       "      <td>Logistica</td>\n",
       "      <td>Nordeste</td>\n",
       "      <td>Superior</td>\n",
       "      <td>M</td>\n",
       "      <td>Outro</td>\n",
       "      <td>1</td>\n",
       "      <td>30</td>\n",
       "      <td>5.0</td>\n",
       "      <td>4</td>\n",
       "      <td>0</td>\n",
       "    </tr>\n",
       "    <tr>\n",
       "      <th>2</th>\n",
       "      <td>7513</td>\n",
       "      <td>Marketing</td>\n",
       "      <td>Sudeste</td>\n",
       "      <td>Superior</td>\n",
       "      <td>M</td>\n",
       "      <td>Outsourcing</td>\n",
       "      <td>1</td>\n",
       "      <td>34</td>\n",
       "      <td>3.0</td>\n",
       "      <td>7</td>\n",
       "      <td>0</td>\n",
       "    </tr>\n",
       "    <tr>\n",
       "      <th>3</th>\n",
       "      <td>2542</td>\n",
       "      <td>Marketing</td>\n",
       "      <td>Norte</td>\n",
       "      <td>Superior</td>\n",
       "      <td>M</td>\n",
       "      <td>Outro</td>\n",
       "      <td>2</td>\n",
       "      <td>39</td>\n",
       "      <td>1.0</td>\n",
       "      <td>10</td>\n",
       "      <td>0</td>\n",
       "    </tr>\n",
       "    <tr>\n",
       "      <th>4</th>\n",
       "      <td>48945</td>\n",
       "      <td>Tecnologia</td>\n",
       "      <td>Nordeste</td>\n",
       "      <td>Superior</td>\n",
       "      <td>M</td>\n",
       "      <td>Outro</td>\n",
       "      <td>1</td>\n",
       "      <td>45</td>\n",
       "      <td>3.0</td>\n",
       "      <td>2</td>\n",
       "      <td>0</td>\n",
       "    </tr>\n",
       "  </tbody>\n",
       "</table>\n",
       "</div>"
      ],
      "text/plain": [
       "   id_funcionario departmento    regiao               educacao genero  \\\n",
       "0           65438   Marketing   Sudeste  Mestrado ou Doutorado      F   \n",
       "1           65141   Logistica  Nordeste               Superior      M   \n",
       "2            7513   Marketing   Sudeste               Superior      M   \n",
       "3            2542   Marketing     Norte               Superior      M   \n",
       "4           48945  Tecnologia  Nordeste               Superior      M   \n",
       "\n",
       "  canal_recrutamento  numero_treinamentos  idade  aval_ano_anterior  \\\n",
       "0        Outsourcing                    1     35                5.0   \n",
       "1              Outro                    1     30                5.0   \n",
       "2        Outsourcing                    1     34                3.0   \n",
       "3              Outro                    2     39                1.0   \n",
       "4              Outro                    1     45                3.0   \n",
       "\n",
       "   tempo_servico  promovido  \n",
       "0              8          0  \n",
       "1              4          0  \n",
       "2              7          0  \n",
       "3             10          0  \n",
       "4              2          0  "
      ]
     },
     "execution_count": 35,
     "metadata": {},
     "output_type": "execute_result"
    }
   ],
   "source": [
    "# Carregando o novo dataset\n",
    "dataset = pd.read_csv('dadosRH_modificado.csv')\n",
    "dataset.head()"
   ]
  },
  {
   "cell_type": "code",
   "execution_count": 36,
   "id": "0ecec8ab",
   "metadata": {},
   "outputs": [
    {
     "data": {
      "text/plain": [
       "(100280, 11)"
      ]
     },
     "execution_count": 36,
     "metadata": {},
     "output_type": "execute_result"
    }
   ],
   "source": [
    "dataset.shape"
   ]
  },
  {
   "cell_type": "markdown",
   "id": "3aa60548",
   "metadata": {},
   "source": [
    "## 1) Qual a correlação entre atributos dos funcionários?"
   ]
  },
  {
   "cell_type": "code",
   "execution_count": 37,
   "id": "8cdc411f",
   "metadata": {},
   "outputs": [
    {
     "data": {
      "text/plain": [
       "<AxesSubplot:>"
      ]
     },
     "execution_count": 37,
     "metadata": {},
     "output_type": "execute_result"
    },
    {
     "data": {
      "image/png": "[encoded data removed]",
      "text/plain": [
       "<Figure size 432x288 with 2 Axes>"
      ]
     },
     "metadata": {
      "needs_background": "light"
     },
     "output_type": "display_data"
    }
   ],
   "source": [
    "# Calcula a correlação entre as variáveis do dataset e cria um mapa de calor:\n",
    "corr = dataset.corr()\n",
    "sns.heatmap(corr, cmap = \"YlOrRd\", linewidths = 0.1)\n",
    "# OBS: cmap é um mapa de cor que possui vários códigos disponíveis\n",
    "plt.show()\n",
    "\n",
    "# Resposta: as variáveis 'idade' e 'tempo_servico' apresentam uma correlação positiva, \n",
    "# assim como as variáveis 'aval_ano_anterior' e 'promovido'"
   ]
  },
  {
   "cell_type": "markdown",
   "id": "d19220ab",
   "metadata": {},
   "source": [
    "Para variáveis numéricas, são utilizados mapas de correlação, \n",
    "enquanto para variáveis categóricas, são utilizados mapas de associação"
   ]
  },
  {
   "cell_type": "markdown",
   "id": "d562b813",
   "metadata": {},
   "source": [
    "## 2) Qual o tempo de serviço da maioria dos funcionários?"
   ]
  },
  {
   "cell_type": "code",
   "execution_count": 45,
   "id": "0311e643",
   "metadata": {},
   "outputs": [
    {
     "data": {
      "image/png": "[encoded data removed]",
      "text/plain": [
       "<Figure size 432x288 with 1 Axes>"
      ]
     },
     "metadata": {
      "needs_background": "light"
     },
     "output_type": "display_data"
    }
   ],
   "source": [
    "# Criando um gráfico de distribuição com a coluna \"tempo_servico\":\n",
    "sns.histplot(data = dataset, x = \"tempo_servico\", kde = True)\n",
    "plt.title(\"Distribuição de tempo de serviço dos funcionários\", fontsize = 15)\n",
    "plt.xlabel(\"Tempo de Serviço em Anos\", fontsize = 15)\n",
    "plt.ylabel(\"Total\")\n",
    "plt.show()\n",
    "\n",
    "# Resposta: a maior parte dos funcionários parece ter um tempo de serviço entre 3 e 5 anos"
   ]
  },
  {
   "cell_type": "markdown",
   "id": "97c21976",
   "metadata": {},
   "source": [
    "## 3) Qual avaliação do ano anterior foi mais comum?"
   ]
  },
  {
   "cell_type": "code",
   "execution_count": 48,
   "id": "2bdfc56d",
   "metadata": {},
   "outputs": [
    {
     "data": {
      "image/png": "[encoded data removed]",
      "text/plain": [
       "<Figure size 720x360 with 1 Axes>"
      ]
     },
     "metadata": {
      "needs_background": "light"
     },
     "output_type": "display_data"
    }
   ],
   "source": [
    "# Criando um gráfico de barras com a contagem de cada avaliação:\n",
    "dataset['aval_ano_anterior'].value_counts().sort_values().plot.bar(color = \"blue\", figsize = (10, 5))\n",
    "plt.title(\"Distribuição da avaliação do ano anterior dos funcionários\", fontsize = 15)\n",
    "plt.xlabel(\"Avaliações\", fontsize = 15)\n",
    "plt.ylabel(\"Total\")\n",
    "plt.show()\n",
    "\n",
    "# Resposta: a avaliação mais comum foi 3.0"
   ]
  },
  {
   "cell_type": "markdown",
   "id": "1de03902",
   "metadata": {},
   "source": [
    "## 4) Qual a distribuição das idades dos funcionários?"
   ]
  },
  {
   "cell_type": "code",
   "execution_count": 46,
   "id": "6876064a",
   "metadata": {},
   "outputs": [
    {
     "data": {
      "image/png": "[encoded data removed]",
      "text/plain": [
       "<Figure size 432x288 with 1 Axes>"
      ]
     },
     "metadata": {
      "needs_background": "light"
     },
     "output_type": "display_data"
    }
   ],
   "source": [
    "# Criando um histograma com a coluna \"idade\":\n",
    "sns.histplot(data = dataset, x = \"idade\", color = 'magenta')\n",
    "plt.title(\"Distribuição da idade dos funcionários\", fontsize = 15)\n",
    "plt.xlabel(\"Idade\", fontsize = 15)\n",
    "plt.ylabel(\"Total\")\n",
    "plt.show()\n",
    "\n",
    "# Resposta: a maior parte dos funcionários têm entre 30 e 40 anos"
   ]
  },
  {
   "cell_type": "markdown",
   "id": "cff6759f",
   "metadata": {},
   "source": [
    "## 5) Qual o número de treinamentos mais frequente?"
   ]
  },
  {
   "cell_type": "code",
   "execution_count": 50,
   "id": "8e2603f0",
   "metadata": {},
   "outputs": [
    {
     "data": {
      "image/png": "[encoded data removed]",
      "text/plain": [
       "<Figure size 432x288 with 1 Axes>"
      ]
     },
     "metadata": {
      "needs_background": "light"
     },
     "output_type": "display_data"
    }
   ],
   "source": [
    "# Utilizando o violinplot:\n",
    "sns.violinplot(data = dataset, x = \"numero_treinamentos\", color = 'red')\n",
    "plt.title(\"Número de treinamentos feitos pelos funcionários\", fontsize = 15)\n",
    "plt.xlabel(\"Número de Treinamentos\", fontsize = 15)\n",
    "plt.ylabel(\"Frequência\")\n",
    "plt.show()\n",
    "\n",
    "# Resposta: a maior parte dos funcionários possui 1 treinamento feito"
   ]
  },
  {
   "cell_type": "markdown",
   "id": "99d445a9",
   "metadata": {},
   "source": [
    "## 6) Qual a proporção de funcionários por canal de recrutamento?"
   ]
  },
  {
   "cell_type": "code",
   "execution_count": 53,
   "id": "97752656",
   "metadata": {},
   "outputs": [
    {
     "data": {
      "text/plain": [
       "Outro          55375\n",
       "Outsourcing    42358\n",
       "Indicado        2547\n",
       "Name: canal_recrutamento, dtype: int64"
      ]
     },
     "execution_count": 53,
     "metadata": {},
     "output_type": "execute_result"
    }
   ],
   "source": [
    "# Fazendo a contagem de cada categoria:\n",
    "dataset['canal_recrutamento'].value_counts()"
   ]
  },
  {
   "cell_type": "code",
   "execution_count": 57,
   "id": "a6566ae2",
   "metadata": {},
   "outputs": [
    {
     "data": {
      "image/png": "[encoded data removed]",
      "text/plain": [
       "<Figure size 432x288 with 1 Axes>"
      ]
     },
     "metadata": {},
     "output_type": "display_data"
    }
   ],
   "source": [
    "# Gráfico de pizza (pie chart):\n",
    "fatias = [55375, 42358, 2547]\n",
    "labels = ['Outro', 'Outsourcing', 'Indicação']\n",
    "cores = ['purple', 'lime', 'yellow']\n",
    "explode = [0, 0, 0]\n",
    "# Criando o gráfico e formatando tamanho das fatias segundo a proporção:\n",
    "plt.pie(fatias, labels = labels, colors = cores, explode = explode, shadow = True, autopct = \"%.2f%%\")\n",
    "plt.title(\"Percentual de funcionários por canal de recrutamento\", fontsize = 15)\n",
    "plt.axis(\"off\")\n",
    "plt.show()\n",
    "\n",
    "# Resposta: \"Outro\" é a principal categoria de recrutamento, seguido por Outsourcing"
   ]
  },
  {
   "cell_type": "markdown",
   "id": "8071cf8a",
   "metadata": {},
   "source": [
    "## 7) Qual a relação entre promoção e avaliação do ano anterior?"
   ]
  },
  {
   "cell_type": "code",
   "execution_count": 52,
   "id": "23bf1fcc",
   "metadata": {},
   "outputs": [
    {
     "data": {
      "text/plain": [
       "<matplotlib.legend.Legend at 0x21f6d634af0>"
      ]
     },
     "execution_count": 52,
     "metadata": {},
     "output_type": "execute_result"
    },
    {
     "data": {
      "image/png": "[encoded data removed]",
      "text/plain": [
       "<Figure size 1152x648 with 1 Axes>"
      ]
     },
     "metadata": {
      "needs_background": "light"
     },
     "output_type": "display_data"
    }
   ],
   "source": [
    "data = pd.crosstab(dataset['aval_ano_anterior'], dataset['promovido'])\n",
    "data.div(data.sum(1).astype(float), axis = 0).plot(\n",
    "    kind='bar', stacked = True, figsize = (16, 9), color = ['blue', 'magenta'])\n",
    "plt.title(\"Relação entre avaliação do ano anterior e promoção\", fontsize = 15)\n",
    "plt.xlabel(\"Avaliação do Ano Anterior\", fontsize = 15)\n",
    "plt.legend()\n",
    "plt.show()\n",
    "# Resposta: Quanto maior a avaliação, maior o número de funcionários promovidos"
   ]
  },
  {
   "cell_type": "code",
   "execution_count": null,
   "id": "c7f1701c",
   "metadata": {},
   "outputs": [],
   "source": []
  }
 ],
 "metadata": {
  "kernelspec": {
   "display_name": "Python 3 (ipykernel)",
   "language": "python",
   "name": "python3"
  },
  "language_info": {
   "codemirror_mode": {
    "name": "ipython",
    "version": 3
   },
   "file_extension": ".py",
   "mimetype": "text/x-python",
   "name": "python",
   "nbconvert_exporter": "python",
   "pygments_lexer": "ipython3",
   "version": "3.9.12"
  }
 },
 "nbformat": 4,
 "nbformat_minor": 5
}
